{
 "cells": [
  {
   "cell_type": "markdown",
   "metadata": {},
   "source": [
    "## OpenAI Gym Warm-Up"
   ]
  },
  {
   "cell_type": "code",
   "execution_count": 59,
   "metadata": {},
   "outputs": [
    {
     "name": "stdout",
     "output_type": "stream",
     "text": [
      "State space of the Env:  16\n",
      "State space of the Env by accessing env.nS:  16\n",
      "Action space of the Env:  4\n"
     ]
    }
   ],
   "source": [
    "# Import Environment class and Libraries\n",
    "from frozen_lake import FrozenLakeEnv\n",
    "import numpy as np\n",
    "import sys\n",
    "import matplotlib.pyplot as plt\n",
    "import time\n",
    "\n",
    "# Create Environment Object\n",
    "env = FrozenLakeEnv(map_name =\"4x4\", is_slippery=False)\n",
    "\n",
    "# Access the number of states:\n",
    "nS = env.observation_space\n",
    "print(\"State space of the Env: \", nS)\n",
    "\n",
    "# or you could even use \n",
    "nS = env.nS\n",
    "print(\"State space of the Env by accessing env.nS: \", nS)\n",
    "\n",
    "# Action space of the agent:\n",
    "nA = env.nA\n",
    "print(\"Action space of the Env: \", nA)"
   ]
  },
  {
   "cell_type": "code",
   "execution_count": 60,
   "metadata": {},
   "outputs": [
    {
     "name": "stdout",
     "output_type": "stream",
     "text": [
      "Transition Probabilty:  1.0\n",
      "Next State:  8\n",
      "Reward:  0.0\n",
      "Episode ended? :  False\n"
     ]
    }
   ],
   "source": [
    "\"\"\"\n",
    "For policy iteration, you would need to access\n",
    "State(s), Action(a), Next State(ns), Reward(r), episode ended? (is_done) tuples.\n",
    "Note that in this environment, the orientation of the agent does not matter.\n",
    "No matter what direction the agent is facing, if, say a left action is performed, \n",
    "the agent moves to the left of the crrent state.\n",
    "\"\"\"\n",
    "# For actions, this is the corresponding dictionary:\n",
    "action_names = {0:'L', 1:'D', 2:\"R\", 3:\"U\"}\n",
    "\n",
    "\"\"\"\n",
    "Here, \n",
    "'L' means left\n",
    "'D' means down\n",
    "'R' means right\n",
    "'U' means up\n",
    "\n",
    "You can access these tuples by simply env.P[s][a].\n",
    "where 's' is state, and 'a' is action. For example, let's say we are at state '4',\n",
    "and we take an action '1' or \"Down\". The next state (ns) would be 8, the episode would not have ended (is_done), \n",
    "the reward (r) is 0 and the transition probabilty (prob) is 1 because this is a deterministic setting.\n",
    "\"\"\"\n",
    "prob, ns, r, is_done = env.P[4][1][0]\n",
    "\n",
    "print(\"Transition Probabilty: \", prob)\n",
    "print(\"Next State: \", ns)\n",
    "print(\"Reward: \", r)\n",
    "print(\"Episode ended? : \", is_done)\n",
    "# Note that we need to add a [0] after env.P[s][a] because it returns a list containing the tuple"
   ]
  },
  {
   "cell_type": "markdown",
   "metadata": {},
   "source": [
    "## Policy Iteration \n",
    "\n",
    "- Follow the pseudo-code given in the handout for this section"
   ]
  },
  {
   "cell_type": "code",
   "execution_count": 61,
   "metadata": {},
   "outputs": [],
   "source": [
    "def print_policy(policy, action_names, states):\n",
    "    \"\"\"Print the policy in human-readable format.\n",
    "    If you've implemented this correctly, the output (for 4x4 map) should be:\n",
    "    \n",
    "    D R D L \n",
    "    D L D L \n",
    "    R D D L \n",
    "    L R R L \n",
    "    \n",
    "    Parameters\n",
    "    ----------\n",
    "    policy: np.ndarray\n",
    "        Array of state to action number mappings\n",
    "    action_names: dict\n",
    "        Mapping of action numbers to characters representing the action.\n",
    "    num_states: int\n",
    "        Number of states in the FrozenLakeEnvironment (16 or 64 for 4x4 or 8x8 maps respectively)      \n",
    "    \"\"\"\n",
    "    str_policy = policy.astype('str')\n",
    "    for action_num, action_name in action_names.items():\n",
    "        np.place(str_policy, policy == action_num, action_name)\n",
    "    a=np.array(str_policy)\n",
    "    if states==16:\n",
    "        a=a.reshape((4,4))\n",
    "    else:\n",
    "        a=a.reshape((8,8))\n",
    "   \n",
    "    print(a)        \n",
    "    \n",
    "    pass\n",
    "        "
   ]
  },
  {
   "cell_type": "code",
   "execution_count": 62,
   "metadata": {},
   "outputs": [],
   "source": [
    "def evaluate_policy_sync(env, gamma, policy, value_func, max_iterations=int(1e3), tol=1e-3):\n",
    "    \"\"\"Performs policy evaluation.\n",
    "    \n",
    "    Evaluates the value of a given policy.\n",
    "\n",
    "    Parameters\n",
    "    ----------\n",
    "    env: Frozen Lake Environment\n",
    "      The environment to compute value iteration for.\n",
    "    gamma: float\n",
    "      Discount factor, must be in range [0, 1)\n",
    "    policy: np.array\n",
    "      The policy to evaluate. Maps states to actions.\n",
    "    value_func: np.array\n",
    "      Array of scalar values for each state\n",
    "    max_iterations: int\n",
    "      The maximum number of iterations to run before stopping.\n",
    "    tol: float\n",
    "      Determines when value function has converged.\n",
    "\n",
    "    Returns\n",
    "    -------\n",
    "    np.ndarray, int\n",
    "      The value for the given policy and the number of iterations till\n",
    "      the value function converged.\n",
    "    \"\"\"\n",
    "    val_iter=0\n",
    "    delta=np.zeros(env.nS)\n",
    "    new_value_func=np.zeros(env.nS)\n",
    "    for i in range(max_iterations):\n",
    "        val_iter+=1\n",
    "        temp=[]\n",
    "        for j in range(env.nS):\n",
    "            new_value_func[j]=value_func[env.P[j][policy[j]][0][1]]*gamma+env.P[j][policy[j]][0][2]\n",
    "            delta[j]=max(delta[j],np.abs(new_value_func[j]-value_func[j]))\n",
    "        if(delta.all()<tol):\n",
    "            break;\n",
    "            \n",
    "    return new_value_func, val_iter"
   ]
  },
  {
   "cell_type": "code",
   "execution_count": 63,
   "metadata": {},
   "outputs": [],
   "source": [
    "def improve_policy(env, gamma, value_func, policy):\n",
    "    \"\"\"Performs policy improvement.\n",
    "    \n",
    "    Given a policy and value function, improves the policy.\n",
    "\n",
    "    Parameters\n",
    "    ----------\n",
    "    env: Frozen Lake Environment\n",
    "      The environment to compute value iteration for.\n",
    "    gamma: float\n",
    "      Discount factor, must be in range [0, 1)\n",
    "    value_func: np.ndarray\n",
    "      Value function for the given policy.\n",
    "    policy: dict or np.array\n",
    "      The policy to improve. Maps states to actions.\n",
    "\n",
    "    Returns\n",
    "    -------\n",
    "    bool, np.ndarray\n",
    "      Returns the new imporved policy.\n",
    "    \"\"\"\n",
    "    new_policy=np.zeros(env.nS)\n",
    "    for i in range(env.nS):\n",
    "        action_list=[]\n",
    "        for k in range(env.nA):\n",
    "            temp=(env.P[i][k][0][2]+ gamma*value_func[env.P[i][k][0][1]])\n",
    "            action_list.append(temp)\n",
    "        new_policy[i]=np.argmax(np.array(action_list))\n",
    "\n",
    "    return new_policy"
   ]
  },
  {
   "cell_type": "code",
   "execution_count": 64,
   "metadata": {},
   "outputs": [],
   "source": [
    "def policy_iteration_sync(env, gamma, max_iterations=int(1e3), tol=1e-3):\n",
    "    \"\"\"Runs policy iteration.\n",
    "\n",
    "    See page 85 of the Sutton & Barto Second Edition book.\n",
    "\n",
    "    You should call the improve_policy() and evaluate_policy_sync() methods to\n",
    "    implement this method.\n",
    "    \n",
    "    If you've implemented this correctly, it should take much less than 1 second.\n",
    "    \n",
    "    Parameters\n",
    "    ----------\n",
    "    env: Frozen Lake Environment\n",
    "      The environment to compute value iteration for.\n",
    "    gamma: float\n",
    "      Discount factor, must be in range [0, 1)\n",
    "    max_iterations: int\n",
    "      The maximum number of iterations to run before stopping.\n",
    "    tol: float\n",
    "      Determines when value function has converged.\n",
    "\n",
    "    Returns\n",
    "    -------\n",
    "    (np.ndarray, np.ndarray, int, int)\n",
    "       Returns optimal policy, value function, number of policy\n",
    "       improvement iterations, and number of value iterations.\n",
    "    \"\"\"\n",
    "    \n",
    "    policy = np.random.randint(0, 4, size=env.nS)   #Define random policy\n",
    "    value_func = np.zeros(env.nS)    # Define initial value function\n",
    "    num_pol_iter = 0\n",
    "    num_val_iter = 0\n",
    "    value_func_list=[]\n",
    "    \n",
    "    # WRITE YOUR CODE HERE:\n",
    "    policy_stable=False\n",
    "    while policy_stable==False:\n",
    "        num_pol_iter+=1\n",
    "        new_value_func,num_val=evaluate_policy_sync(env,gamma,policy,value_func,max_iterations=int(1e3),tol=1e-3)\n",
    "        num_val_iter+=num_val\n",
    "        value_func=new_value_func\n",
    "        new_policy=improve_policy(env,gamma,value_func,policy)\n",
    "        value_func_list.append(value_func)\n",
    "        temp=[]\n",
    "        for i in range(env.nS):\n",
    "            if(new_policy[i]==policy[i]):\n",
    "                temp.append(1)\n",
    "        policy=new_policy\n",
    "        if(np.sum(np.array(temp))==env.nS):\n",
    "            policy_stable=True\n",
    "        else:\n",
    "            policy_stable=False    \n",
    "\n",
    "    return policy, value_func, num_pol_iter, num_val_iter,value_func_list"
   ]
  },
  {
   "cell_type": "markdown",
   "metadata": {},
   "source": [
    "# Environment:4x4"
   ]
  },
  {
   "cell_type": "code",
   "execution_count": 65,
   "metadata": {
    "scrolled": false
   },
   "outputs": [
    {
     "name": "stdout",
     "output_type": "stream",
     "text": [
      "[['D' 'R' 'D' 'L']\n",
      " ['D' 'L' 'D' 'L']\n",
      " ['R' 'D' 'D' 'L']\n",
      " ['L' 'R' 'R' 'L']]\n",
      "Time taken by 4X4 environment is  0.0019953250885009766 seconds\n",
      "Number of policy iterations is equal to 6\n",
      "Number of value iterations is equal to 6\n"
     ]
    },
    {
     "data": {
      "image/png": "[encoded data removed]",
      "text/plain": [
       "<Figure size 432x288 with 1 Axes>"
      ]
     },
     "metadata": {
      "needs_background": "light"
     },
     "output_type": "display_data"
    },
    {
     "data": {
      "image/png": "[encoded data removed]",
      "text/plain": [
       "<Figure size 432x288 with 2 Axes>"
      ]
     },
     "metadata": {
      "needs_background": "light"
     },
     "output_type": "display_data"
    }
   ],
   "source": [
    "def main():\n",
    "    \n",
    "    start=time.time()\n",
    "    env=FrozenLakeEnv(map_name='4x4',is_slippery=False)\n",
    "    policy, value_func, num_pol_iter, num_val_iter, value_func_list=policy_iteration_sync(env,0.9,max_iterations=int(1e3),tol=1e-3) #Gamma is 0.9\n",
    "    print_policy(policy,action_names,env.nS)\n",
    "    end=time.time()\n",
    "    print(\"Time taken by 4X4 environment is \",(end-start),\"seconds\")\n",
    "    print(\"Number of policy iterations is equal to\", num_pol_iter)\n",
    "    print(\"Number of value iterations is equal to\",num_val_iter)\n",
    "    for i in range(num_pol_iter):\n",
    "        plt.scatter(np.ones(env.nS)*(i+1),value_func_list[i])\n",
    "    plt.show()\n",
    "    plt.imshow(value_func.reshape(4,4))\n",
    "    plt.colorbar()\n",
    "    pass\n",
    "    \n",
    "    \n",
    "if __name__ == \"__main__\":\n",
    "    main()"
   ]
  },
  {
   "cell_type": "markdown",
   "metadata": {},
   "source": [
    "# Environment:8x8"
   ]
  },
  {
   "cell_type": "code",
   "execution_count": 66,
   "metadata": {},
   "outputs": [
    {
     "name": "stdout",
     "output_type": "stream",
     "text": [
      "[['D' 'D' 'D' 'D' 'D' 'D' 'D' 'D']\n",
      " ['D' 'D' 'D' 'R' 'D' 'D' 'D' 'D']\n",
      " ['D' 'D' 'D' 'L' 'D' 'R' 'D' 'D']\n",
      " ['R' 'R' 'R' 'R' 'D' 'L' 'D' 'D']\n",
      " ['R' 'R' 'U' 'L' 'D' 'D' 'R' 'D']\n",
      " ['D' 'L' 'L' 'R' 'R' 'D' 'L' 'D']\n",
      " ['D' 'L' 'R' 'U' 'L' 'D' 'L' 'D']\n",
      " ['R' 'R' 'U' 'L' 'R' 'R' 'R' 'L']]\n",
      "Time taken by 8X8 environment is  0.012961149215698242 seconds\n",
      "Number of policy iterations is equal to 14\n",
      "Number of value iterations is equal to 14\n"
     ]
    },
    {
     "data": {
      "image/png": "[encoded data removed]",
      "text/plain": [
       "<Figure size 432x288 with 1 Axes>"
      ]
     },
     "metadata": {
      "needs_background": "light"
     },
     "output_type": "display_data"
    },
    {
     "data": {
      "image/png": "[encoded data removed]",
      "text/plain": [
       "<Figure size 432x288 with 2 Axes>"
      ]
     },
     "metadata": {
      "needs_background": "light"
     },
     "output_type": "display_data"
    }
   ],
   "source": [
    "def main():\n",
    "    \n",
    "    start=time.time()\n",
    "    env=FrozenLakeEnv(map_name='8x8',is_slippery=False)\n",
    "    policy, value_func, num_pol_iter, num_val_iter, value_func_list=policy_iteration_sync(env,0.9,max_iterations=int(1e3),tol=1e-3) #Gamma is 0.9\n",
    "    print_policy(policy,action_names,env.nS)\n",
    "    end=time.time()\n",
    "    print(\"Time taken by 8X8 environment is \",(end-start),\"seconds\")\n",
    "    print(\"Number of policy iterations is equal to\", num_pol_iter)\n",
    "    print(\"Number of value iterations is equal to\",num_val_iter)\n",
    "    for i in range(num_pol_iter):\n",
    "        plt.scatter(np.ones(env.nS)*(i+1),value_func_list[i])\n",
    "    plt.show()\n",
    "    plt.imshow(value_func.reshape(8,8))\n",
    "    plt.colorbar()\n",
    "    pass\n",
    "    \n",
    "\n",
    "if __name__ == \"__main__\":\n",
    "    main()"
   ]
  },
  {
   "cell_type": "markdown",
   "metadata": {},
   "source": [
    "# obseravtion for part B\n",
    "\n",
    "- States closest to the target gets updated faster as the policy gets updated.As a result of which the frozen state closest to the target gets maximum value of the value function.\n",
    "- Value function of the holes remain zero even after policy iteration.\n",
    "- Value function of states are updated in decreasing order of their value.\n",
    "- States with same value function are getting updated simultaneously."
   ]
  }
 ],
 "metadata": {
  "kernelspec": {
   "display_name": "Python 3",
   "language": "python",
   "name": "python3"
  },
  "language_info": {
   "codemirror_mode": {
    "name": "ipython",
    "version": 3
   },
   "file_extension": ".py",
   "mimetype": "text/x-python",
   "name": "python",
   "nbconvert_exporter": "python",
   "pygments_lexer": "ipython3",
   "version": "3.7.4"
  }
 },
 "nbformat": 4,
 "nbformat_minor": 2
}
