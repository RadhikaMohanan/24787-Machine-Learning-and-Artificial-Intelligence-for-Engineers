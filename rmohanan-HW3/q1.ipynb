{
 "cells": [
  {
   "cell_type": "markdown",
   "metadata": {},
   "source": [
    "### Important Note for question1 !\n",
    "- Please **do not** change the default variable names in this problem, as we will use them in different parts.\n",
    "- The default variables are initially set to \"None\".\n",
    "- You only need to modify code in the \"TODO\" part. We added a lot of \"assertions\" to check your code. **Do not** modify them."
   ]
  },
  {
   "cell_type": "code",
   "execution_count": 54,
   "metadata": {},
   "outputs": [],
   "source": [
    "# load packages\n",
    "import numpy as np\n",
    "import pandas as pd\n",
    "import time\n",
    "from sklearn.naive_bayes import GaussianNB"
   ]
  },
  {
   "cell_type": "markdown",
   "metadata": {},
   "source": [
    "## P1. Load data and plot\n",
    "### TODO\n",
    "- Load train and test data, and split them into inputs(trainX, testX) and labels(trainY, testY)\n",
    "\n",
    "\n"
   ]
  },
  {
   "cell_type": "code",
   "execution_count": 55,
   "metadata": {},
   "outputs": [],
   "source": [
    "# Use pandas to load q1_train.csv and q1_test.csv\n",
    "# Each data point has 200 features(X), followed by 1 label(Y)\n",
    "\n",
    "#### TODO ####\n",
    "train=pd.read_csv(\"C:/Radhika/CMU/SEM1/ML_AI/HW3/24787-hw3-handout/24787-hw3-handout/q1_train.csv\")\n",
    "test=pd.read_csv(\"C:/Radhika/CMU/SEM1/ML_AI/HW3/24787-hw3-handout/24787-hw3-handout/q1_test.csv\")\n",
    "trainX = train.iloc[:len(train),1:201]\n",
    "trainY = train.iloc[:len(train),201]\n",
    "testX = test.iloc[:len(test),1:201]\n",
    "testY = test.iloc[:len(test),201]\n",
    "##############\n",
    "\n",
    "assert(len(trainX.shape) == 2)\n",
    "assert(len(trainY.shape) == 1)\n",
    "assert(trainX.shape[1] == 200)"
   ]
  },
  {
   "cell_type": "markdown",
   "metadata": {},
   "source": [
    "## P2. Write your Gaussian NB solver\n",
    "### TODO\n",
    "- Finish the myNBSolver() function. \n",
    "    - Compute P(y == 0) and P(y == 1), saved in \"py0\" and \"py1\"\n",
    "    - Compute mean/variance of trainX for both y = 0 and y = 1, saved in \"mean0\", \"var0\", \"mean1\" and \"var1\"\n",
    "        - Each of them should have shape (N_train, M), where N_train is number of train samples and M is number of features.\n",
    "    - Compute P(xi | y == 0) and P(xi | y == 1), compare and save **binary** prediction in \"train_pred\" and \"test_pred\"\n",
    "    - Compute train accuracy and test accuracy, saved in \"train_acc\" and \"test_acc\".\n",
    "    - Return train accuracy and test accuracy."
   ]
  },
  {
   "cell_type": "code",
   "execution_count": 56,
   "metadata": {},
   "outputs": [],
   "source": [
    "def myNBSolver(trainX, trainY, testX, testY):\n",
    "    \n",
    "    N_train = trainX.shape[0]\n",
    "    N_test = testX.shape[0]\n",
    "    M = trainX.shape[1]\n",
    "    \n",
    "    #### TODO ####\n",
    "    # Compute P(y == 0) and P(y == 1)\n",
    "    NTR1=np.count_nonzero(trainY)\n",
    "    NTR0=len(trainY)-NTR1\n",
    "    \n",
    "    py0 =NTR0/len(trainY) \n",
    "    py1 = NTR1/len(trainY)\n",
    "    \n",
    "    ##############\n",
    "    print(\"Total probablity is %.2f. Should be equal to 1.\" %(py0 + py1))\n",
    "\n",
    "    #### TODO ####\n",
    "    # Compute mean/var for each label\n",
    "    trn=np.column_stack((trainX,trainY))\n",
    "    trn_0 = trn[trn[:,200] == 0]\n",
    "    trn_1 = trn[trn[:,200] == 1]\n",
    "    trn_0x=trn_0[:,0:200]\n",
    "    trn_1x=trn_1[:,0:200]\n",
    "    mean0 = np.mean(trn_0x, axis = 0)\n",
    "    mean1 = np.mean(trn_1x, axis = 0)\n",
    "    var0 = np.var(trn_0x, axis = 0)\n",
    "    var1 = np.var(trn_1x, axis = 0)\n",
    "    \n",
    "    ##############\n",
    "    assert(mean0.shape[0] == M)\n",
    "    \n",
    "    #### TODO ####\n",
    "    # Compute P(xi|y == 0) and P(xi|y == 1), compare and make prediction\n",
    "    # This part may spend 5 - 10 minutes or even more if you use for loop, so feel free to \n",
    "    # print something (like step number) to check the progress\n",
    "    px_trt_y0=np.prod((1/np.sqrt(2*np.pi*var0))*np.exp(-(trainX-mean0)**2/(2*var0)),axis=1)*py0\n",
    "    px_trt_y1=np.prod((1/np.sqrt(2*np.pi*var1))*np.exp(-(trainX-mean1)**2/(2*var1)),axis=1)*py1\n",
    "    train_pred = []\n",
    "    for i in range(len(trainY)):\n",
    "        if(px_trt_y0[i]>=px_trt_y1[i]):\n",
    "            train_pred.append(0)\n",
    "        else:\n",
    "            train_pred.append(1)\n",
    "    px_tst_y0=np.prod((1/np.sqrt(2*np.pi*var0))*np.exp(-(testX-mean0)**2/(2*var0)),axis=1)*py0\n",
    "    px_tst_y1=np.prod((1/np.sqrt(2*np.pi*var1))*np.exp(-(testX-mean1)**2/(2*var1)),axis=1)*py1\n",
    "    test_pred=[]\n",
    "    for j in range(len(testY)):\n",
    "        if(px_tst_y0[j]>=px_tst_y1[j]):\n",
    "            test_pred.append(0)\n",
    "        else:\n",
    "            test_pred.append(1)\n",
    "\n",
    "    ##############\n",
    "    assert(train_pred[0] == 0 or train_pred[0] == 1)\n",
    "    assert(test_pred[0] == 0 or test_pred[0] == 1)\n",
    "    \n",
    "    #### TODO ####\n",
    "    # Compute train accuracy and test accuracy\n",
    "    correct_y0=0\n",
    "    for k in range(len(trainY)):\n",
    "        if (train_pred[k]==trainY[k]):\n",
    "            correct_y0 +=1\n",
    "    correct_y1=0\n",
    "    for m in range(len(testY)):\n",
    "        if (test_pred[m]==testY[m]):\n",
    "            correct_y1 +=1        \n",
    "    \n",
    "    train_acc = correct_y0/len(trainY)\n",
    "    test_acc = correct_y1/len(testY)\n",
    "    \n",
    "    ##############\n",
    "    \n",
    "    return train_acc, test_acc"
   ]
  },
  {
   "cell_type": "code",
   "execution_count": 57,
   "metadata": {},
   "outputs": [
    {
     "name": "stdout",
     "output_type": "stream",
     "text": [
      "Total probablity is 1.00. Should be equal to 1.\n",
      "Train accuracy is 92.22\n",
      "Test accuracy is 92.05\n"
     ]
    }
   ],
   "source": [
    "# driver to test your NB solver\n",
    "train_acc, test_acc = myNBSolver(trainX, trainY, testX, testY)\n",
    "print(\"Train accuracy is %.2f\" %(train_acc * 100))\n",
    "print(\"Test accuracy is %.2f\" %(test_acc * 100))"
   ]
  },
  {
   "cell_type": "markdown",
   "metadata": {},
   "source": [
    "## P3. Test your result using sklearn\n",
    "### TODO\n",
    "- Finish the skNBSolver() function. \n",
    "     - fit model, make prediction and return accuracy for train and test sets."
   ]
  },
  {
   "cell_type": "code",
   "execution_count": 58,
   "metadata": {},
   "outputs": [],
   "source": [
    "def skNBSolver(trainX, trainY, testX, testY):\n",
    "    \n",
    "    #### TODO ####\n",
    "    # fit model\n",
    "    # make prediction\n",
    "    # compute accuracy\n",
    "    NB=GaussianNB()\n",
    "    NB.fit(trainX,trainY)\n",
    "    sk_train_acc = NB.score(trainX,trainY)\n",
    "    sk_test_acc = NB.score(testX,testY)\n",
    "    \n",
    "    ##############\n",
    "    return sk_train_acc, sk_test_acc\n",
    "    "
   ]
  },
  {
   "cell_type": "code",
   "execution_count": 59,
   "metadata": {},
   "outputs": [
    {
     "name": "stdout",
     "output_type": "stream",
     "text": [
      "Train accuracy is 92.22\n",
      "Test accuracy is 92.05\n"
     ]
    }
   ],
   "source": [
    "# driver to test skNBSolver\n",
    "sk_train_acc, sk_test_acc = skNBSolver(trainX, trainY, testX, testY)\n",
    "print(\"Train accuracy is %.2f\" %(sk_train_acc * 100))\n",
    "print(\"Test accuracy is %.2f\" %(sk_test_acc * 100))"
   ]
  },
  {
   "cell_type": "code",
   "execution_count": null,
   "metadata": {},
   "outputs": [],
   "source": []
  }
 ],
 "metadata": {
  "kernelspec": {
   "display_name": "Python 3",
   "language": "python",
   "name": "python3"
  },
  "language_info": {
   "codemirror_mode": {
    "name": "ipython",
    "version": 3
   },
   "file_extension": ".py",
   "mimetype": "text/x-python",
   "name": "python",
   "nbconvert_exporter": "python",
   "pygments_lexer": "ipython3",
   "version": "3.7.3"
  }
 },
 "nbformat": 4,
 "nbformat_minor": 2
}
